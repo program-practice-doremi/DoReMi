{
 "cells": [
  {
   "cell_type": "markdown",
   "metadata": {},
   "source": [
    "# Test\n",
    "this is a test file."
   ]
  },
  {
   "cell_type": "code",
   "execution_count": 1,
   "metadata": {},
   "outputs": [],
   "source": [
    "import pandas as pd\n",
    "import numpy as np"
   ]
  },
  {
   "cell_type": "code",
   "execution_count": 2,
   "metadata": {},
   "outputs": [
    {
     "data": {
      "text/html": [
       "<div>\n",
       "<style scoped>\n",
       "    .dataframe tbody tr th:only-of-type {\n",
       "        vertical-align: middle;\n",
       "    }\n",
       "\n",
       "    .dataframe tbody tr th {\n",
       "        vertical-align: top;\n",
       "    }\n",
       "\n",
       "    .dataframe thead th {\n",
       "        text-align: right;\n",
       "    }\n",
       "</style>\n",
       "<table border=\"1\" class=\"dataframe\">\n",
       "  <thead>\n",
       "    <tr style=\"text-align: right;\">\n",
       "      <th></th>\n",
       "      <th>曲名</th>\n",
       "      <th>调性</th>\n",
       "      <th>乐谱</th>\n",
       "    </tr>\n",
       "  </thead>\n",
       "  <tbody>\n",
       "    <tr>\n",
       "      <th>0</th>\n",
       "      <td>水星记</td>\n",
       "      <td>F</td>\n",
       "      <td>[[6,0,5,0,3,0,6,0,0,0,5,0,3,0,6,0],[0,0,0,0,0,...</td>\n",
       "    </tr>\n",
       "    <tr>\n",
       "      <th>1</th>\n",
       "      <td>最美的期待</td>\n",
       "      <td>C</td>\n",
       "      <td>[[0,0,0,1,1,7,1,2,0,0,0,2,2,1,7,1],[0,6,0,1,1,...</td>\n",
       "    </tr>\n",
       "    <tr>\n",
       "      <th>2</th>\n",
       "      <td>最美的期待</td>\n",
       "      <td>C</td>\n",
       "      <td>[[0,0,0,1,1,2,3,5,0,2,0,2,2,1,7,1],[0,6,0,2,2,...</td>\n",
       "    </tr>\n",
       "    <tr>\n",
       "      <th>3</th>\n",
       "      <td>稻香</td>\n",
       "      <td>A</td>\n",
       "      <td>[[1,0,6,1,0,1,1,1,2,2,2,2,3,0,1,0],[1,0,6,1,0,...</td>\n",
       "    </tr>\n",
       "    <tr>\n",
       "      <th>4</th>\n",
       "      <td>稻香</td>\n",
       "      <td>A</td>\n",
       "      <td>[[5,0,5,5,0,5,5,5,0,5,5,5,3,0,2,0],[1,0,2,3,0,...</td>\n",
       "    </tr>\n",
       "    <tr>\n",
       "      <th>5</th>\n",
       "      <td>爱你</td>\n",
       "      <td>F</td>\n",
       "      <td>[[3,0,3,0,5,0,5,5,0,0,4,0,0,0,1,0],[2,0,2,0,4,...</td>\n",
       "    </tr>\n",
       "    <tr>\n",
       "      <th>6</th>\n",
       "      <td>燕园情</td>\n",
       "      <td>F</td>\n",
       "      <td>[[3,0,0,0,0,0,2,3,1,0,0,0,0,0,0,0],[3,0,0,0,0,...</td>\n",
       "    </tr>\n",
       "    <tr>\n",
       "      <th>7</th>\n",
       "      <td>test</td>\n",
       "      <td>C</td>\n",
       "      <td>[[1,1.5,2,2.5,3,4,4,4,5,5.5,6,6.5,7,0,0,0],[1,...</td>\n",
       "    </tr>\n",
       "  </tbody>\n",
       "</table>\n",
       "</div>"
      ],
      "text/plain": [
       "      曲名 调性                                                 乐谱\n",
       "0    水星记  F  [[6,0,5,0,3,0,6,0,0,0,5,0,3,0,6,0],[0,0,0,0,0,...\n",
       "1  最美的期待  C  [[0,0,0,1,1,7,1,2,0,0,0,2,2,1,7,1],[0,6,0,1,1,...\n",
       "2  最美的期待  C  [[0,0,0,1,1,2,3,5,0,2,0,2,2,1,7,1],[0,6,0,2,2,...\n",
       "3     稻香  A  [[1,0,6,1,0,1,1,1,2,2,2,2,3,0,1,0],[1,0,6,1,0,...\n",
       "4     稻香  A  [[5,0,5,5,0,5,5,5,0,5,5,5,3,0,2,0],[1,0,2,3,0,...\n",
       "5     爱你  F  [[3,0,3,0,5,0,5,5,0,0,4,0,0,0,1,0],[2,0,2,0,4,...\n",
       "6    燕园情  F  [[3,0,0,0,0,0,2,3,1,0,0,0,0,0,0,0],[3,0,0,0,0,...\n",
       "7   test  C  [[1,1.5,2,2.5,3,4,4,4,5,5.5,6,6.5,7,0,0,0],[1,..."
      ]
     },
     "execution_count": 2,
     "metadata": {},
     "output_type": "execute_result"
    }
   ],
   "source": [
    "a = pd.read_csv(\"songs.csv\")\n",
    "a"
   ]
  },
  {
   "cell_type": "code",
   "execution_count": 3,
   "metadata": {},
   "outputs": [
    {
     "data": {
      "text/plain": [
       "'[[0,0,0,1,1,2,3,5,0,2,0,2,2,1,7,1],[0,6,0,2,2,1,7,1,0,5,0,1,1,2,3,5],[0,0,0,1,1,7,6,6,0,5,0,4,4,3,2,3],[0,0,0,1,4,3,2,4,0,1,0,1,0,2,0,1]]'"
      ]
     },
     "execution_count": 3,
     "metadata": {},
     "output_type": "execute_result"
    }
   ],
   "source": [
    "a[\"乐谱\"][2]"
   ]
  },
  {
   "cell_type": "code",
   "execution_count": 4,
   "metadata": {},
   "outputs": [
    {
     "data": {
      "text/plain": [
       "[[1, 1.5, 2, 2.5, 3, 4, 4, 4, 5, 5.5, 6, 6.5, 7, 0, 0, 0],\n",
       " [1, 1.5, 2, 2.5, 3, 4, 4, 4, 5, 5.5, 6, 6.5, 7, 0, 0, 0],\n",
       " [1, 1.5, 2, 2.5, 3, 4, 4, 4, 5, 5.5, 6, 6.5, 7, 0, 0, 0],\n",
       " [1, 1.5, 2, 2.5, 3, 4, 4, 4, 5, 5.5, 6, 6.5, 7, 0, 0, 0]]"
      ]
     },
     "execution_count": 4,
     "metadata": {},
     "output_type": "execute_result"
    }
   ],
   "source": [
    "strings = eval(a[\"乐谱\"][7])\n",
    "strings"
   ]
  },
  {
   "cell_type": "code",
   "execution_count": 5,
   "metadata": {},
   "outputs": [
    {
     "data": {
      "text/plain": [
       "array([[1. , 1.5, 2. , 2.5, 3. , 4. , 4. , 4. , 5. , 5.5, 6. , 6.5, 7. ,\n",
       "        0. , 0. , 0. ],\n",
       "       [1. , 1.5, 2. , 2.5, 3. , 4. , 4. , 4. , 5. , 5.5, 6. , 6.5, 7. ,\n",
       "        0. , 0. , 0. ],\n",
       "       [1. , 1.5, 2. , 2.5, 3. , 4. , 4. , 4. , 5. , 5.5, 6. , 6.5, 7. ,\n",
       "        0. , 0. , 0. ],\n",
       "       [1. , 1.5, 2. , 2.5, 3. , 4. , 4. , 4. , 5. , 5.5, 6. , 6.5, 7. ,\n",
       "        0. , 0. , 0. ]])"
      ]
     },
     "execution_count": 5,
     "metadata": {},
     "output_type": "execute_result"
    }
   ],
   "source": [
    "puzi = np.array(strings, dtype=float)\n",
    "puzi"
   ]
  }
 ],
 "metadata": {
  "kernelspec": {
   "display_name": "base",
   "language": "python",
   "name": "python3"
  },
  "language_info": {
   "codemirror_mode": {
    "name": "ipython",
    "version": 3
   },
   "file_extension": ".py",
   "mimetype": "text/x-python",
   "name": "python",
   "nbconvert_exporter": "python",
   "pygments_lexer": "ipython3",
   "version": "3.11.9"
  }
 },
 "nbformat": 4,
 "nbformat_minor": 2
}
